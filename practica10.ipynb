{
 "cells": [
  {
   "cell_type": "markdown",
   "id": "51fd506e",
   "metadata": {},
   "source": [
    "Esta es la resolución del ejercicio 10 de la practica 2.\n",
    "\n",
    "Trabajando con los contenidos de los archivos que pueden acceder en el curso:\n",
    "- nombres_1.txt\n",
    "- eval1.txt\n",
    "- eval2.txt\n",
    "\n",
    "Manipule estos archivos para realizar lo siguiente:\n",
    "- Generar una estructura con los nombres de los estudiantes y la suma de ambas notas.\n",
    "- Calcular el promedio de las notas totales e informar que alumnos obtuvieron menos que el promedio.\n",
    "\n",
    "*Porfavor, señalar codigo que podria ser mas eficiente, o errores a la hora de pensar la solucion.*\n",
    "\n",
    "Con eso en mente, manos a la obra:"
   ]
  },
  {
   "cell_type": "code",
   "execution_count": null,
   "id": "34c133b3",
   "metadata": {},
   "outputs": [],
   "source": [
    "def extraer_datos(nombre_arch, numero= False):\n",
    "    lista = []\n",
    "    with open(nombre_arch, 'r', encoding='utf8') as archivo:\n",
    "        contenido = archivo.read()\n",
    "    for linea in contenido.splitlines():\n",
    "        linea = linea.replace(\"'\", \" \").replace(\",\", \" \")\n",
    "        if(numero):\n",
    "            lista.append(float(linea.strip()))\n",
    "        else:\n",
    "            lista.append(linea.strip())\n",
    "    return lista\n",
    "\n",
    "nombres = extraer_datos('nombres_1.txt')\n",
    "notas1 = extraer_datos('eval1.txt', True)\n",
    "notas2 = extraer_datos('eval2.txt', True)"
   ]
  },
  {
   "cell_type": "markdown",
   "id": "195d24f8",
   "metadata": {},
   "source": [
    "Lo que hago en esta funcion es simplificar la tarea de leer todos los archivos, con el formato que quiero que tengan.\n",
    "De esta manera me quito el trabajo de tener que leer todos los archivos y repetir codigo. El parametro *numero* es para que al momento de extraer las notas se conviertan en numeros y no sean strings."
   ]
  },
  {
   "cell_type": "code",
   "execution_count": null,
   "id": "5c844fa0",
   "metadata": {},
   "outputs": [],
   "source": [
    "# Creo la estructura con las notas\n",
    "notas_totales = {}\n",
    "for i in range(len(nombres)):\n",
    "    notas_totales[nombres[i]] = notas1[i] + notas2[i]"
   ]
  },
  {
   "cell_type": "markdown",
   "id": "84c7c0f1",
   "metadata": {},
   "source": [
    "Con este bloque de codigo creo la estructura donde van a ir los nombres de los estudiantes con sus notas. Los nombres en este caso son la llave del diccionario y la suma de las notas su respectivo valor"
   ]
  },
  {
   "cell_type": "code",
   "execution_count": null,
   "id": "e6cce65b",
   "metadata": {},
   "outputs": [],
   "source": [
    "#Obtengo el promedio\n",
    "prom_total = 0\n",
    "for i in range(len(notas1)):\n",
    "    prom_total+= notas1[i] + notas2[i]\n",
    "# Lo divido por la longitud de notas1 multiplicada por 2, por que ahi estaria la cantidad de notas totales\n",
    "prom_total = prom_total / (len(notas1) * 2)"
   ]
  },
  {
   "cell_type": "markdown",
   "id": "052f43fe",
   "metadata": {},
   "source": [
    "Lo que hago en este bloque de codigo es obtener el promedio, por que lo divido por la longitud de notas1 multiplicada por dos? Por que la cantidad de notas totales son las de la lista de notas1 + la lista de notas 2, y las dos tienen la misma longitud"
   ]
  },
  {
   "cell_type": "code",
   "execution_count": null,
   "id": "ec873da2",
   "metadata": {},
   "outputs": [],
   "source": [
    "#Informo que alumnos tienen en promedio, menos que el promedio total\n",
    "for key in notas_totales:\n",
    "    if((notas_totales[key] / 2) < prom_total):\n",
    "        print(key)"
   ]
  },
  {
   "cell_type": "markdown",
   "id": "27107cd4",
   "metadata": {},
   "source": [
    "En este ultimo bloque de codigo solamente divido la suma total de las notas de cada estudiante por 2 (por ser 2 notas por cada estudiante). Y si es menor al promedio total de todas las notas, informo sus nombres"
   ]
  }
 ],
 "metadata": {
  "kernelspec": {
   "display_name": "Python 3 (ipykernel)",
   "language": "python",
   "name": "python3"
  },
  "language_info": {
   "codemirror_mode": {
    "name": "ipython",
    "version": 3
   },
   "file_extension": ".py",
   "mimetype": "text/x-python",
   "name": "python",
   "nbconvert_exporter": "python",
   "pygments_lexer": "ipython3",
   "version": "3.10.2"
  }
 },
 "nbformat": 4,
 "nbformat_minor": 5
}
